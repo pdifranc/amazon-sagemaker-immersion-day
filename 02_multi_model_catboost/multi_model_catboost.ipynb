{
 "cells": [
  {
   "cell_type": "markdown",
   "id": "2f919041",
   "metadata": {},
   "source": [
    "# Bring your own container\n"
   ]
  },
  {
   "attachments": {},
   "cell_type": "markdown",
   "id": "5d380bd6",
   "metadata": {},
   "source": [
    "---\n",
    "\n",
    "This notebook's CI test result for us-west-2 is as follows. CI test results in other regions can be found at the end of the notebook. \n",
    "\n",
    "![This us-west-2 badge failed to load. Check your device's internet connectivity, otherwise the service is currently unavailable](https://prod.us-west-2.tcx-beacon.docs.aws.dev/sagemaker-nb/us-west-2/inference|nlp|realtime|byoc|multi_model_catboost.ipynb)\n",
    "\n",
    "---"
   ]
  },
  {
   "cell_type": "markdown",
   "id": "955b54ee",
   "metadata": {},
   "source": [
    "\n",
    "This notebook shows an example of bring your own container. This example leverages the MultiModelServer to host MME and this example \n",
    "can be further modified and adapted to fit your needs\n"
   ]
  },
  {
   "cell_type": "markdown",
   "id": "06b411bb",
   "metadata": {},
   "source": [
    "# Multi-Model Endpoint - CatBoost\n",
    "\n",
    "This example notebook also showcases how to use a custom container to host multiple CatBoost models on a SageMaker Multi Model Endpoint. The model this notebook deploys is taken from this [CatBoost tutorial](https://github.com/catboost/tutorials/blob/master/python_tutorial_with_tasks.ipynb). \n",
    "\n",
    "We are using this framework as an example to demonstrate deployment and serving using MultiModel Endpoint and showcase the capability. This notebook can be extended to any framework.\n",
    "\n",
    "Catboost is gaining in popularity and is not yet supported as a framework for SageMaker MultiModelEndpoint. Further this example serves to demostrate how to bring your own container to a MultiModelEndpoint\n",
    "\n",
    "In this Notebook we will use identical model to simulate multiple models for loading and inference"
   ]
  },
  {
   "cell_type": "markdown",
   "id": "2569b2c3",
   "metadata": {},
   "source": [
    "## Prerequisites\n",
    "### Packages and Permissions\n",
    "The SageMaker SDK uses the SageMaker default S3 bucket when needed. If the get_execution_role does not return a role with the appropriate permissions, you'll need to specify an IAM role ARN that does. Please make sure the `SageMakerFullAccess` policy is attached to the execution role you are using."
   ]
  },
  {
   "cell_type": "markdown",
   "id": "3fb6b304",
   "metadata": {},
   "source": [
    "## Load model and test local inference\n",
    "Here, install `catboost` to test we can load up the model locally and make inference. \n",
    "\n",
    "We load up the model locally using `CatBoostClassifier()`. `test_data.csv` contains a single row of test inference data."
   ]
  },
  {
   "cell_type": "code",
   "execution_count": 1,
   "id": "124fee8b",
   "metadata": {
    "execution": {
     "iopub.execute_input": "2025-07-21T15:46:07.715632Z",
     "iopub.status.busy": "2025-07-21T15:46:07.715342Z",
     "iopub.status.idle": "2025-07-21T15:46:09.228623Z",
     "shell.execute_reply": "2025-07-21T15:46:09.228018Z",
     "shell.execute_reply.started": "2025-07-21T15:46:07.715610Z"
    }
   },
   "outputs": [
    {
     "name": "stdout",
     "output_type": "stream",
     "text": [
      "Requirement already satisfied: catboost in /opt/conda/lib/python3.12/site-packages (1.2.7)\n",
      "Requirement already satisfied: graphviz in /opt/conda/lib/python3.12/site-packages (from catboost) (0.21)\n",
      "Requirement already satisfied: matplotlib in /opt/conda/lib/python3.12/site-packages (from catboost) (3.10.3)\n",
      "Requirement already satisfied: numpy<2.0,>=1.16.0 in /opt/conda/lib/python3.12/site-packages (from catboost) (1.26.4)\n",
      "Requirement already satisfied: pandas>=0.24 in /opt/conda/lib/python3.12/site-packages (from catboost) (2.2.3)\n",
      "Requirement already satisfied: scipy in /opt/conda/lib/python3.12/site-packages (from catboost) (1.15.2)\n",
      "Requirement already satisfied: plotly in /opt/conda/lib/python3.12/site-packages (from catboost) (6.0.1)\n",
      "Requirement already satisfied: six in /opt/conda/lib/python3.12/site-packages (from catboost) (1.17.0)\n",
      "Requirement already satisfied: python-dateutil>=2.8.2 in /opt/conda/lib/python3.12/site-packages (from pandas>=0.24->catboost) (2.9.0.post0)\n",
      "Requirement already satisfied: pytz>=2020.1 in /opt/conda/lib/python3.12/site-packages (from pandas>=0.24->catboost) (2024.2)\n",
      "Requirement already satisfied: tzdata>=2022.7 in /opt/conda/lib/python3.12/site-packages (from pandas>=0.24->catboost) (2025.2)\n",
      "Requirement already satisfied: contourpy>=1.0.1 in /opt/conda/lib/python3.12/site-packages (from matplotlib->catboost) (1.3.2)\n",
      "Requirement already satisfied: cycler>=0.10 in /opt/conda/lib/python3.12/site-packages (from matplotlib->catboost) (0.12.1)\n",
      "Requirement already satisfied: fonttools>=4.22.0 in /opt/conda/lib/python3.12/site-packages (from matplotlib->catboost) (4.58.5)\n",
      "Requirement already satisfied: kiwisolver>=1.3.1 in /opt/conda/lib/python3.12/site-packages (from matplotlib->catboost) (1.4.8)\n",
      "Requirement already satisfied: packaging>=20.0 in /opt/conda/lib/python3.12/site-packages (from matplotlib->catboost) (24.2)\n",
      "Requirement already satisfied: pillow>=8 in /opt/conda/lib/python3.12/site-packages (from matplotlib->catboost) (11.3.0)\n",
      "Requirement already satisfied: pyparsing>=2.3.1 in /opt/conda/lib/python3.12/site-packages (from matplotlib->catboost) (3.2.3)\n",
      "Requirement already satisfied: narwhals>=1.15.1 in /opt/conda/lib/python3.12/site-packages (from plotly->catboost) (1.46.0)\n"
     ]
    }
   ],
   "source": [
    "# Cell 01\n",
    "\n",
    "!pip install catboost"
   ]
  },
  {
   "cell_type": "code",
   "execution_count": 2,
   "id": "022aa0b5",
   "metadata": {
    "execution": {
     "iopub.execute_input": "2025-07-21T15:46:09.229887Z",
     "iopub.status.busy": "2025-07-21T15:46:09.229609Z",
     "iopub.status.idle": "2025-07-21T15:46:10.106669Z",
     "shell.execute_reply": "2025-07-21T15:46:10.106133Z",
     "shell.execute_reply.started": "2025-07-21T15:46:09.229865Z"
    }
   },
   "outputs": [
    {
     "data": {
      "text/html": [
       "<div>\n",
       "<style scoped>\n",
       "    .dataframe tbody tr th:only-of-type {\n",
       "        vertical-align: middle;\n",
       "    }\n",
       "\n",
       "    .dataframe tbody tr th {\n",
       "        vertical-align: top;\n",
       "    }\n",
       "\n",
       "    .dataframe thead th {\n",
       "        text-align: right;\n",
       "    }\n",
       "</style>\n",
       "<table border=\"1\" class=\"dataframe\">\n",
       "  <thead>\n",
       "    <tr style=\"text-align: right;\">\n",
       "      <th></th>\n",
       "      <th>RESOURCE</th>\n",
       "      <th>MGR_ID</th>\n",
       "      <th>ROLE_ROLLUP_1</th>\n",
       "      <th>ROLE_ROLLUP_2</th>\n",
       "      <th>ROLE_DEPTNAME</th>\n",
       "      <th>ROLE_TITLE</th>\n",
       "      <th>ROLE_FAMILY_DESC</th>\n",
       "      <th>ROLE_FAMILY</th>\n",
       "      <th>ROLE_CODE</th>\n",
       "    </tr>\n",
       "  </thead>\n",
       "  <tbody>\n",
       "    <tr>\n",
       "      <th>0</th>\n",
       "      <td>37793</td>\n",
       "      <td>81744</td>\n",
       "      <td>117902</td>\n",
       "      <td>117903</td>\n",
       "      <td>118783</td>\n",
       "      <td>118451</td>\n",
       "      <td>130134</td>\n",
       "      <td>118453</td>\n",
       "      <td>118454</td>\n",
       "    </tr>\n",
       "  </tbody>\n",
       "</table>\n",
       "</div>"
      ],
      "text/plain": [
       "   RESOURCE  MGR_ID  ROLE_ROLLUP_1  ROLE_ROLLUP_2  ROLE_DEPTNAME  ROLE_TITLE  \\\n",
       "0     37793   81744         117902         117903         118783      118451   \n",
       "\n",
       "   ROLE_FAMILY_DESC  ROLE_FAMILY  ROLE_CODE  \n",
       "0            130134       118453     118454  "
      ]
     },
     "execution_count": 2,
     "metadata": {},
     "output_type": "execute_result"
    }
   ],
   "source": [
    "# Cell 02\n",
    "from catboost import CatBoostClassifier, Pool as CatboostPool, cv\n",
    "import os\n",
    "import pandas\n",
    "\n",
    "model_file = CatBoostClassifier()\n",
    "model_file = model_file.load_model(\"./models/mme_catboost/catboost_model.bin\")\n",
    "df = pandas.read_csv(\"./data/mme_catboost/test_data.csv\")\n",
    "df.head(2)"
   ]
  },
  {
   "cell_type": "code",
   "execution_count": 3,
   "id": "b4a864d5",
   "metadata": {
    "execution": {
     "iopub.execute_input": "2025-07-21T15:46:11.713668Z",
     "iopub.status.busy": "2025-07-21T15:46:11.713340Z",
     "iopub.status.idle": "2025-07-21T15:46:11.721291Z",
     "shell.execute_reply": "2025-07-21T15:46:11.720738Z",
     "shell.execute_reply.started": "2025-07-21T15:46:11.713646Z"
    }
   },
   "outputs": [
    {
     "name": "stdout",
     "output_type": "stream",
     "text": [
      "[[0.0203764 0.9796236]]\n"
     ]
    }
   ],
   "source": [
    "# Cell 03\n",
    "import pandas as pd\n",
    "import io\n",
    "import json\n",
    "\n",
    "out = model_file.predict_proba(df)\n",
    "print(out)"
   ]
  },
  {
   "cell_type": "markdown",
   "id": "b28981f2",
   "metadata": {},
   "source": [
    "## Upload tar ball to s3\n"
   ]
  },
  {
   "cell_type": "markdown",
   "id": "5b96bafb",
   "metadata": {},
   "source": [
    "### Create a model tar ball\n",
    "\n",
    "SageMaker requires our model to be packaged in a tar.gz file."
   ]
  },
  {
   "cell_type": "code",
   "execution_count": 4,
   "id": "8a4b71aa",
   "metadata": {
    "execution": {
     "iopub.execute_input": "2025-07-21T15:46:13.349652Z",
     "iopub.status.busy": "2025-07-21T15:46:13.349325Z",
     "iopub.status.idle": "2025-07-21T15:46:13.677540Z",
     "shell.execute_reply": "2025-07-21T15:46:13.676971Z",
     "shell.execute_reply.started": "2025-07-21T15:46:13.349630Z"
    }
   },
   "outputs": [
    {
     "name": "stdout",
     "output_type": "stream",
     "text": [
      "catboost_model.bin\n",
      "catboost-model.tar.gz  catboost_model.bin\n"
     ]
    }
   ],
   "source": [
    "# Cell 04\n",
    "!cd models/mme_catboost && tar -czvf catboost-model.tar.gz catboost_model.bin\n",
    "!ls models/mme_catboost"
   ]
  },
  {
   "cell_type": "markdown",
   "id": "9d52509a",
   "metadata": {},
   "source": [
    "### Upload 5 copies of the model to S3\n",
    "\n",
    "Multi-Model Endpoints require all our models to be in a specific S3 prefix. Here we upload 100 of them to our default bucket. \n",
    "\n",
    "This is a simulation of having different models which we need to use to predict. In reality you would probably have each of these models trained separately"
   ]
  },
  {
   "cell_type": "code",
   "execution_count": 5,
   "id": "3314369e",
   "metadata": {
    "execution": {
     "iopub.execute_input": "2025-07-21T15:46:19.165380Z",
     "iopub.status.busy": "2025-07-21T15:46:19.165009Z",
     "iopub.status.idle": "2025-07-21T15:46:20.854518Z",
     "shell.execute_reply": "2025-07-21T15:46:20.853994Z",
     "shell.execute_reply.started": "2025-07-21T15:46:19.165354Z"
    }
   },
   "outputs": [
    {
     "name": "stdout",
     "output_type": "stream",
     "text": [
      "sagemaker.config INFO - Not applying SDK defaults from location: /etc/xdg/sagemaker/config.yaml\n",
      "sagemaker.config INFO - Not applying SDK defaults from location: /home/sagemaker-user/.config/sagemaker/config.yaml\n",
      "sagemaker-us-west-2-258565740036\n"
     ]
    }
   ],
   "source": [
    "# Cell 05\n",
    "import sagemaker\n",
    "\n",
    "sess = sagemaker.Session()\n",
    "s3_bucket = sess.default_bucket()  # Replace with your own bucket name if needed\n",
    "print(s3_bucket)"
   ]
  },
  {
   "cell_type": "markdown",
   "id": "5d52e111",
   "metadata": {},
   "source": [
    "### Upload the model tar balls using boto3 with a unique name"
   ]
  },
  {
   "cell_type": "code",
   "execution_count": 6,
   "id": "ff6b4674",
   "metadata": {
    "execution": {
     "iopub.execute_input": "2025-07-21T15:46:23.312611Z",
     "iopub.status.busy": "2025-07-21T15:46:23.312265Z",
     "iopub.status.idle": "2025-07-21T15:46:23.801520Z",
     "shell.execute_reply": "2025-07-21T15:46:23.801025Z",
     "shell.execute_reply.started": "2025-07-21T15:46:23.312590Z"
    }
   },
   "outputs": [
    {
     "name": "stdout",
     "output_type": "stream",
     "text": [
      "Models:uploaded and ready for use\n"
     ]
    }
   ],
   "source": [
    "# Cell 06\n",
    "import boto3\n",
    "\n",
    "s3 = boto3.client(\"s3\")\n",
    "for i in range(0, 5):\n",
    "    with open(\"models/mme_catboost/catboost-model.tar.gz\", \"rb\") as f:\n",
    "        s3.upload_fileobj(f, s3_bucket, \"catboost/catboost-model-{}.tar.gz\".format(i))\n",
    "\n",
    "print(\"Models:uploaded and ready for use\")"
   ]
  },
  {
   "cell_type": "markdown",
   "id": "c6d8dd04",
   "metadata": {},
   "source": [
    "### List all models in s3 prefix we will use for our Multi-Model Endpoint"
   ]
  },
  {
   "cell_type": "code",
   "execution_count": 7,
   "id": "2fd62eab",
   "metadata": {
    "execution": {
     "iopub.execute_input": "2025-07-21T15:46:48.314809Z",
     "iopub.status.busy": "2025-07-21T15:46:48.314482Z",
     "iopub.status.idle": "2025-07-21T15:46:49.175921Z",
     "shell.execute_reply": "2025-07-21T15:46:49.175264Z",
     "shell.execute_reply.started": "2025-07-21T15:46:48.314788Z"
    }
   },
   "outputs": [
    {
     "name": "stdout",
     "output_type": "stream",
     "text": [
      "2025-07-21 15:46:24     184503 catboost-model-0.tar.gz\n",
      "2025-07-21 15:46:24     184503 catboost-model-1.tar.gz\n",
      "2025-07-21 15:46:24     184503 catboost-model-2.tar.gz\n",
      "2025-07-21 15:46:24     184503 catboost-model-3.tar.gz\n",
      "2025-07-21 15:46:24     184503 catboost-model-4.tar.gz\n"
     ]
    }
   ],
   "source": [
    "# Cell 07\n",
    "!aws s3 ls s3://$s3_bucket/catboost/"
   ]
  },
  {
   "cell_type": "markdown",
   "id": "766a5fc8",
   "metadata": {},
   "source": [
    "## Building the custom container"
   ]
  },
  {
   "cell_type": "markdown",
   "id": "d69948f3",
   "metadata": {},
   "source": [
    "The container folder in this example contains 3 files:\n",
    "```\n",
    "├── container\n",
    "│   ├── dockerd-entrypoint.py\n",
    "│   ├── Dockerfile\n",
    "│   └── model_handler.py\n",
    "```\n",
    "\n",
    "- `dockerd-entrypoint.py` is the entry point script that will start the multi model server.\n",
    "- `Dockerfile` contains the container definition that will be used to assemble the image. This includes the packages that need to be installed.\n",
    "- `model_handler.py` is the script that will contain the logic to load up the model and make inference.\n",
    "\n",
    "Take a look through the files to see if there is any customization that you would like to do.\n",
    "Below cells highlight the main part of the files. \n"
   ]
  },
  {
   "cell_type": "markdown",
   "id": "2b5d9799",
   "metadata": {},
   "source": [
    "### Install catboost in the `Dockerfile`"
   ]
  },
  {
   "cell_type": "code",
   "execution_count": 8,
   "id": "83c3cdd6",
   "metadata": {
    "execution": {
     "iopub.execute_input": "2025-07-21T15:46:55.058520Z",
     "iopub.status.busy": "2025-07-21T15:46:55.058164Z",
     "iopub.status.idle": "2025-07-21T15:46:55.212550Z",
     "shell.execute_reply": "2025-07-21T15:46:55.211905Z",
     "shell.execute_reply.started": "2025-07-21T15:46:55.058497Z"
    }
   },
   "outputs": [
    {
     "name": "stdout",
     "output_type": "stream",
     "text": [
      "    vim \\\n",
      "    && rm -rf /var/lib/apt/lists/* \\\n",
      "    && curl -O https://bootstrap.pypa.io/pip/get-pip.py \\\n",
      "    && curl https://bootstrap.pypa.io/get-pip.py -o get-pip.py \\\n",
      "    && python3.7 get-pip.py --force-reinstall\n"
     ]
    }
   ],
   "source": [
    "# Cell 08\n",
    "! sed -n '26,30p' container/mme_catboost/Dockerfile"
   ]
  },
  {
   "cell_type": "markdown",
   "id": "329c64f8",
   "metadata": {},
   "source": [
    "### Update `initialize` function in `model_handler.py` with logic to load up the model\n",
    "In this case we are using `CatBoostClassifier()`. Feel free to update the loading logic in this function to your needs."
   ]
  },
  {
   "cell_type": "code",
   "execution_count": 9,
   "id": "7ea3a1b7",
   "metadata": {
    "execution": {
     "iopub.execute_input": "2025-07-21T15:47:01.602397Z",
     "iopub.status.busy": "2025-07-21T15:47:01.602036Z",
     "iopub.status.idle": "2025-07-21T15:47:01.757340Z",
     "shell.execute_reply": "2025-07-21T15:47:01.756712Z",
     "shell.execute_reply.started": "2025-07-21T15:47:01.602366Z"
    }
   },
   "outputs": [
    {
     "name": "stdout",
     "output_type": "stream",
     "text": [
      "    def initialize(self, ctx):\n",
      "        start = time.time()\n",
      "        self.device = \"cpu\"\n",
      "\n",
      "        properties = ctx.system_properties\n",
      "        self.device = \"cpu\"\n",
      "        model_dir = properties.get(\"model_dir\")\n",
      "\n",
      "        print(\"model_dir {}\".format(model_dir))\n",
      "        print(os.system(\"ls {}\".format(model_dir)))\n",
      "\n",
      "        model_file = CatBoostClassifier()\n",
      "\n",
      "        onlyfiles = [\n",
      "            f\n",
      "            for f in os.listdir(model_dir)\n",
      "            if os.path.isfile(os.path.join(model_dir, f)) and f.endswith(\".bin\")\n",
      "        ]\n",
      "        print(\n"
     ]
    }
   ],
   "source": [
    "# Cell 09\n",
    "! sed -n '22,40p' ./container/mme_catboost/model_handler.py"
   ]
  },
  {
   "cell_type": "markdown",
   "id": "17f20a73",
   "metadata": {},
   "source": [
    "### Update `handle` function in `model_handler.py` with logic to load up the model"
   ]
  },
  {
   "cell_type": "code",
   "execution_count": 10,
   "id": "0fe695ee",
   "metadata": {
    "execution": {
     "iopub.execute_input": "2025-07-21T15:47:18.168286Z",
     "iopub.status.busy": "2025-07-21T15:47:18.167909Z",
     "iopub.status.idle": "2025-07-21T15:47:18.323944Z",
     "shell.execute_reply": "2025-07-21T15:47:18.323359Z",
     "shell.execute_reply.started": "2025-07-21T15:47:18.168262Z"
    }
   },
   "outputs": [
    {
     "name": "stdout",
     "output_type": "stream",
     "text": [
      "        Make the inference request against the laoded model\n",
      "        \"\"\"\n",
      "        start = time.time()\n",
      "\n",
      "        predictions = self.model.predict_proba(inputs)\n",
      "        print(f\" perf inference {(time.time() - start) * 1000} ms\")\n",
      "        return predictions\n",
      "\n",
      "    def postprocess(self, inference_output):\n",
      "        \"\"\"\n",
      "        Post-process the request\n",
      "        \"\"\"\n",
      "\n",
      "        start = time.time()\n",
      "        inference_output = dict(enumerate(inference_output.flatten(), 0))\n",
      "        print(f\" perf postprocess {(time.time() - start) * 1000} ms\")\n"
     ]
    }
   ],
   "source": [
    "# Cell 10\n",
    "! sed -n '70,85p' ./container/mme_catboost/model_handler.py"
   ]
  },
  {
   "cell_type": "markdown",
   "id": "dff64a5b",
   "metadata": {},
   "source": [
    "### Build and Push the custom image to ECR\n",
    "\n",
    "**This steps takes atleast 5-6 minutes so please be patient and ignore any \"warnings\" **"
   ]
  },
  {
   "cell_type": "code",
   "execution_count": 26,
   "id": "6c77e8bd",
   "metadata": {
    "execution": {
     "iopub.execute_input": "2025-07-21T17:50:24.025910Z",
     "iopub.status.busy": "2025-07-21T17:50:24.025571Z",
     "iopub.status.idle": "2025-07-21T17:51:53.614757Z",
     "shell.execute_reply": "2025-07-21T17:51:53.614201Z",
     "shell.execute_reply.started": "2025-07-21T17:50:24.025886Z"
    }
   },
   "outputs": [
    {
     "name": "stdout",
     "output_type": "stream",
     "text": [
      "Starting Docker Build\n",
      "fullname:image=258565740036.dkr.ecr.us-west-2.amazonaws.com/catboost-sagemaker-multimodel:latest\n"
     ]
    },
    {
     "name": "stderr",
     "output_type": "stream",
     "text": [
      "WARNING! Your password will be stored unencrypted in /home/sagemaker-user/.docker/config.json.\n",
      "Configure a credential helper to remove this warning. See\n",
      "https://docs.docker.com/engine/reference/commandline/login/#credential-stores\n",
      "\n"
     ]
    },
    {
     "name": "stdout",
     "output_type": "stream",
     "text": [
      "Login Succeeded\n",
      "Starting the Docker Build with catboost-sagemaker-multimodel\n"
     ]
    },
    {
     "name": "stderr",
     "output_type": "stream",
     "text": [
      "DEPRECATED: The legacy builder is deprecated and will be removed in a future release.\n",
      "            BuildKit is currently disabled; enable it by removing the DOCKER_BUILDKIT=0\n",
      "            environment-variable.\n",
      "\n"
     ]
    },
    {
     "name": "stdout",
     "output_type": "stream",
     "text": [
      "Sending build context to Docker daemon  13.31kB\n",
      "Step 1/18 : FROM ubuntu:22.04\n",
      " ---> 1d3ca894b30c\n",
      "Step 2/18 : LABEL com.amazonaws.sagemaker.capabilities.multi-models=true\n",
      " ---> Using cache\n",
      " ---> cac8992be694\n",
      "Step 3/18 : LABEL com.amazonaws.sagemaker.capabilities.accept-bind-to-port=true\n",
      " ---> Using cache\n",
      " ---> a11152ed56c7\n",
      "Step 4/18 : RUN apt-get update && apt-get install -y         python3.10         python3-pip\n",
      " ---> Using cache\n",
      " ---> d2a00379bbba\n",
      "Step 5/18 : RUN python3.10 -m pip install pip\n",
      " ---> Using cache\n",
      " ---> 98d1250d1a3f\n",
      "Step 6/18 : RUN apt-get update && apt-get install -y         python3-distutils         python3-setuptools\n",
      " ---> Using cache\n",
      " ---> dee85a722569\n",
      "Step 7/18 : RUN apt-get update &&     apt-get -y install --no-install-recommends     build-essential     ca-certificates     openjdk-8-jdk-headless     python3-dev     curl     python3     vim     && rm -rf /var/lib/apt/lists/*     && curl -O https://bootstrap.pypa.io/pip/get-pip.py     && curl https://bootstrap.pypa.io/get-pip.py -o get-pip.py     && python3.10 get-pip.py --force-reinstall\n",
      " ---> Using cache\n",
      " ---> 705c8972a308\n",
      "Step 8/18 : RUN update-alternatives --install /usr/bin/python python /usr/bin/python3.10 1\n",
      " ---> Running in a8231fad7f16\n",
      "update-alternatives: using /usr/bin/python3.10 to provide /usr/bin/python (python) in auto mode\n",
      " ---> Removed intermediate container a8231fad7f16\n",
      " ---> 2c29804d65b6\n",
      "Step 9/18 : RUN update-alternatives --install /usr/local/bin/pip pip /usr/local/bin/pip3 1\n",
      " ---> Running in 046f39c29d6a\n",
      "update-alternatives: using /usr/local/bin/pip3 to provide /usr/local/bin/pip (pip) in auto mode\n",
      "\u001b[91mupdate-alternatives: warning: not replacing /usr/local/bin/pip with a link\n",
      "\u001b[0m ---> Removed intermediate container 046f39c29d6a\n",
      " ---> e83e47427dac\n",
      "Step 10/18 : RUN pip3 --no-cache-dir install multi-model-server                                 sagemaker-inference                                 retrying                                 catboost                                 pandas\n",
      " ---> Running in 56be6ba17814\n",
      "Collecting multi-model-server\n",
      "  Downloading multi_model_server-1.1.11-py2.py3-none-any.whl.metadata (3.5 kB)\n",
      "Collecting sagemaker-inference\n",
      "  Downloading sagemaker_inference-1.10.1.tar.gz (23 kB)\n",
      "  Preparing metadata (setup.py): started\n",
      "  Preparing metadata (setup.py): finished with status 'done'\n",
      "Collecting retrying\n",
      "  Downloading retrying-1.4.1-py3-none-any.whl.metadata (7.5 kB)\n",
      "Collecting catboost\n",
      "  Downloading catboost-1.2.8-cp310-cp310-manylinux2014_x86_64.whl.metadata (1.2 kB)\n",
      "Collecting pandas\n",
      "  Downloading pandas-2.3.1-cp310-cp310-manylinux_2_17_x86_64.manylinux2014_x86_64.whl.metadata (91 kB)\n",
      "Collecting Pillow (from multi-model-server)\n",
      "  Downloading pillow-11.3.0-cp310-cp310-manylinux_2_27_x86_64.manylinux_2_28_x86_64.whl.metadata (9.0 kB)\n",
      "Collecting psutil (from multi-model-server)\n",
      "  Downloading psutil-7.0.0-cp36-abi3-manylinux_2_12_x86_64.manylinux2010_x86_64.manylinux_2_17_x86_64.manylinux2014_x86_64.whl.metadata (22 kB)\n",
      "Collecting future (from multi-model-server)\n",
      "  Downloading future-1.0.0-py3-none-any.whl.metadata (4.0 kB)\n",
      "Collecting model-archiver (from multi-model-server)\n",
      "  Downloading model_archiver-1.0.3-py2.py3-none-any.whl.metadata (3.2 kB)\n",
      "Collecting boto3 (from sagemaker-inference)\n",
      "  Downloading boto3-1.39.9-py3-none-any.whl.metadata (6.7 kB)\n",
      "Collecting numpy (from sagemaker-inference)\n",
      "  Downloading numpy-2.2.6-cp310-cp310-manylinux_2_17_x86_64.manylinux2014_x86_64.whl.metadata (62 kB)\n",
      "Collecting retrying\n",
      "  Downloading retrying-1.3.7-py3-none-any.whl.metadata (7.3 kB)\n",
      "Collecting scipy (from sagemaker-inference)\n",
      "  Downloading scipy-1.15.3-cp310-cp310-manylinux_2_17_x86_64.manylinux2014_x86_64.whl.metadata (61 kB)\n",
      "Collecting six (from sagemaker-inference)\n",
      "  Downloading six-1.17.0-py2.py3-none-any.whl.metadata (1.7 kB)\n",
      "Collecting graphviz (from catboost)\n",
      "  Downloading graphviz-0.21-py3-none-any.whl.metadata (12 kB)\n",
      "Collecting matplotlib (from catboost)\n",
      "  Downloading matplotlib-3.10.3-cp310-cp310-manylinux_2_17_x86_64.manylinux2014_x86_64.whl.metadata (11 kB)\n",
      "Collecting plotly (from catboost)\n",
      "  Downloading plotly-6.2.0-py3-none-any.whl.metadata (8.5 kB)\n",
      "Collecting python-dateutil>=2.8.2 (from pandas)\n",
      "  Downloading python_dateutil-2.9.0.post0-py2.py3-none-any.whl.metadata (8.4 kB)\n",
      "Collecting pytz>=2020.1 (from pandas)\n",
      "  Downloading pytz-2025.2-py2.py3-none-any.whl.metadata (22 kB)\n",
      "Collecting tzdata>=2022.7 (from pandas)\n",
      "  Downloading tzdata-2025.2-py2.py3-none-any.whl.metadata (1.4 kB)\n",
      "Collecting botocore<1.40.0,>=1.39.9 (from boto3->sagemaker-inference)\n",
      "  Downloading botocore-1.39.9-py3-none-any.whl.metadata (5.7 kB)\n",
      "Collecting jmespath<2.0.0,>=0.7.1 (from boto3->sagemaker-inference)\n",
      "  Downloading jmespath-1.0.1-py3-none-any.whl.metadata (7.6 kB)\n",
      "Collecting s3transfer<0.14.0,>=0.13.0 (from boto3->sagemaker-inference)\n",
      "  Downloading s3transfer-0.13.1-py3-none-any.whl.metadata (1.7 kB)\n",
      "Collecting urllib3!=2.2.0,<3,>=1.25.4 (from botocore<1.40.0,>=1.39.9->boto3->sagemaker-inference)\n",
      "  Downloading urllib3-2.5.0-py3-none-any.whl.metadata (6.5 kB)\n",
      "Collecting contourpy>=1.0.1 (from matplotlib->catboost)\n",
      "  Downloading contourpy-1.3.2-cp310-cp310-manylinux_2_17_x86_64.manylinux2014_x86_64.whl.metadata (5.5 kB)\n",
      "Collecting cycler>=0.10 (from matplotlib->catboost)\n",
      "  Downloading cycler-0.12.1-py3-none-any.whl.metadata (3.8 kB)\n",
      "Collecting fonttools>=4.22.0 (from matplotlib->catboost)\n",
      "  Downloading fonttools-4.59.0-cp310-cp310-manylinux2014_x86_64.manylinux_2_17_x86_64.whl.metadata (107 kB)\n",
      "Collecting kiwisolver>=1.3.1 (from matplotlib->catboost)\n",
      "  Downloading kiwisolver-1.4.8-cp310-cp310-manylinux_2_12_x86_64.manylinux2010_x86_64.whl.metadata (6.2 kB)\n",
      "Collecting packaging>=20.0 (from matplotlib->catboost)\n",
      "  Downloading packaging-25.0-py3-none-any.whl.metadata (3.3 kB)\n",
      "Collecting pyparsing>=2.3.1 (from matplotlib->catboost)\n",
      "  Downloading pyparsing-3.2.3-py3-none-any.whl.metadata (5.0 kB)\n",
      "Collecting enum-compat (from model-archiver->multi-model-server)\n",
      "  Downloading enum_compat-0.0.3-py3-none-any.whl.metadata (954 bytes)\n",
      "Collecting narwhals>=1.15.1 (from plotly->catboost)\n",
      "  Downloading narwhals-1.48.0-py3-none-any.whl.metadata (11 kB)\n",
      "Downloading multi_model_server-1.1.11-py2.py3-none-any.whl (6.8 MB)\n",
      "   ━━━━━━━━━━━━━━���━━━━━━━━━━━━━━━━━━━━━━━━━ 6.8/6.8 MB 180.9 MB/s eta 0:00:00\n",
      "Downloading retrying-1.3.7-py3-none-any.whl (11 kB)\n",
      "Downloading catboost-1.2.8-cp310-cp310-manylinux2014_x86_64.whl (99.2 MB)\n",
      "   ━━━━━━━━━━━━━━━━━━━��━━━━━━━━━━━━━━━━━━━━ 99.2/99.2 MB 207.6 MB/s eta 0:00:00\n",
      "Downloading numpy-2.2.6-cp310-cp310-manylinux_2_17_x86_64.manylinux2014_x86_64.whl (16.8 MB)\n",
      "   ━━━━━━━━━━━━━━━━━━━━━━━━━━━━━━━━━━━���━━━━ 16.8/16.8 MB 151.8 MB/s eta 0:00:00\n",
      "Downloading pandas-2.3.1-cp310-cp310-manylinux_2_17_x86_64.manylinux2014_x86_64.whl (12.3 MB)\n",
      "   ━━━━━━━━━━━━━━━━━━━━━━━━━━━━━━━━━━���━━━━━ 12.3/12.3 MB 162.5 MB/s eta 0:00:00\n",
      "Downloading python_dateutil-2.9.0.post0-py2.py3-none-any.whl (229 kB)\n",
      "Downloading pytz-2025.2-py2.py3-none-any.whl (509 kB)\n",
      "Downloading six-1.17.0-py2.py3-none-any.whl (11 kB)\n",
      "Downloading tzdata-2025.2-py2.py3-none-any.whl (347 kB)\n",
      "Downloading boto3-1.39.9-py3-none-any.whl (139 kB)\n",
      "Downloading botocore-1.39.9-py3-none-any.whl (13.9 MB)\n",
      "   ━��━━━━━━━━━━━━━━━━━━━━━━━━━━━━━━━━━━━━━━ 13.9/13.9 MB 98.2 MB/s eta 0:00:00\n",
      "Downloading jmespath-1.0.1-py3-none-any.whl (20 kB)\n",
      "Downloading s3transfer-0.13.1-py3-none-any.whl (85 kB)\n",
      "Downloading urllib3-2.5.0-py3-none-any.whl (129 kB)\n",
      "Downloading future-1.0.0-py3-none-any.whl (491 kB)\n",
      "Downloading graphviz-0.21-py3-none-any.whl (47 kB)\n",
      "Downloading matplotlib-3.10.3-cp310-cp310-manylinux_2_17_x86_64.manylinux2014_x86_64.whl (8.6 MB)\n",
      "   ━━━━━━━━━━━━━━━━━━━━━━━━━━━━━━━━━━━━━━━━ 8.6/8.6 MB 44.2 MB/s eta 0:00:00\n",
      "Downloading contourpy-1.3.2-cp310-cp310-manylinux_2_17_x86_64.manylinux2014_x86_64.whl (325 kB)\n",
      "Downloading cycler-0.12.1-py3-none-any.whl (8.3 kB)\n",
      "Downloading fonttools-4.59.0-cp310-cp310-manylinux2014_x86_64.manylinux_2_17_x86_64.whl (4.8 MB)\n",
      "   ━━━━━━━━━━━━━━━━━━━━━━━━━━━━━━━━���━━━━━━━ 4.8/4.8 MB 36.8 MB/s eta 0:00:00\n",
      "Downloading kiwisolver-1.4.8-cp310-cp310-manylinux_2_12_x86_64.manylinux2010_x86_64.whl (1.6 MB)\n",
      "   ━━━━━━━━━━━━━━���━━━━━━━━━━━━━━━━━━━━━━━━━ 1.6/1.6 MB 28.9 MB/s eta 0:00:00\n",
      "Downloading packaging-25.0-py3-none-any.whl (66 kB)\n",
      "Downloading pillow-11.3.0-cp310-cp310-manylinux_2_27_x86_64.manylinux_2_28_x86_64.whl (6.6 MB)\n",
      "   ━━━━━━━━━━━━━━━━━━━━━━━━━━━━━━━━━━━━━━━━ 6.6/6.6 MB 29.8 MB/s eta 0:00:00\n",
      "Downloading pyparsing-3.2.3-py3-none-any.whl (111 kB)\n",
      "Downloading model_archiver-1.0.3-py2.py3-none-any.whl (20 kB)\n",
      "Downloading enum_compat-0.0.3-py3-none-any.whl (1.3 kB)\n",
      "Downloading plotly-6.2.0-py3-none-any.whl (9.6 MB)\n",
      "   ━━━━━━━━━━━━━━━━━━━━━━━━━━━━━━━━━━━━━━━━ 9.6/9.6 MB 34.6 MB/s eta 0:00:00\n",
      "Downloading narwhals-1.48.0-py3-none-any.whl (376 kB)\n",
      "Downloading psutil-7.0.0-cp36-abi3-manylinux_2_12_x86_64.manylinux2010_x86_64.manylinux_2_17_x86_64.manylinux2014_x86_64.whl (277 kB)\n",
      "Downloading scipy-1.15.3-cp310-cp310-manylinux_2_17_x86_64.manylinux2014_x86_64.whl (37.7 MB)\n",
      "   ━━━━━━━━━━━━━━━━━━━━━━━━━━━━━━━━━━━━━━━━ 37.7/37.7 MB 41.8 MB/s eta 0:00:00\n",
      "Building wheels for collected packages: sagemaker-inference\n",
      "\u001b[91m  DEPRECATION: Building 'sagemaker-inference' using the legacy setup.py bdist_wheel mechanism, which will be removed in a future version. pip 25.3 will enforce this behaviour change. A possible replacement is to use the standardized build interface by setting the `--use-pep517` option, (possibly combined with `--no-build-isolation`), or adding a `pyproject.toml` file to the source tree of 'sagemaker-inference'. Discussion can be found at https://github.com/pypa/pip/issues/6334\n",
      "\u001b[0m  Building wheel for sagemaker-inference (setup.py): started\n",
      "  Building wheel for sagemaker-inference (setup.py): finished with status 'done'\n",
      "  Created wheel for sagemaker-inference: filename=sagemaker_inference-1.10.1-py2.py3-none-any.whl size=29752 sha256=bd9c643584bea62c8a346eaa50d95018f9ec1adf309954e733af9a2a78d6f9f0\n",
      "  Stored in directory: /tmp/pip-ephem-wheel-cache-nardaxlz/wheels/4f/d8/2a/300a5f9c1dbc89f931aff8eaba60a81bd5c9b814c9d4a0f2de\n",
      "Successfully built sagemaker-inference\n",
      "Installing collected packages: retrying, pytz, enum-compat, urllib3, tzdata, six, pyparsing, psutil, Pillow, packaging, numpy, narwhals, kiwisolver, jmespath, graphviz, future, fonttools, cycler, scipy, python-dateutil, plotly, model-archiver, contourpy, pandas, multi-model-server, matplotlib, botocore, s3transfer, catboost, boto3, sagemaker-inference\n",
      "\n",
      "Successfully installed Pillow-11.3.0 boto3-1.39.9 botocore-1.39.9 catboost-1.2.8 contourpy-1.3.2 cycler-0.12.1 enum-compat-0.0.3 fonttools-4.59.0 future-1.0.0 graphviz-0.21 jmespath-1.0.1 kiwisolver-1.4.8 matplotlib-3.10.3 model-archiver-1.0.3 multi-model-server-1.1.11 narwhals-1.48.0 numpy-2.2.6 packaging-25.0 pandas-2.3.1 plotly-6.2.0 psutil-7.0.0 pyparsing-3.2.3 python-dateutil-2.9.0.post0 pytz-2025.2 retrying-1.3.7 s3transfer-0.13.1 sagemaker-inference-1.10.1 scipy-1.15.3 six-1.17.0 tzdata-2025.2 urllib3-2.5.0\n",
      "\u001b[91mWARNING: Running pip as the 'root' user can result in broken permissions and conflicting behaviour with the system package manager, possibly rendering your system unusable. It is recommended to use a virtual environment instead: https://pip.pypa.io/warnings/venv. Use the --root-user-action option if you know what you are doing and want to suppress this warning.\n",
      "\u001b[0m ---> Removed intermediate container 56be6ba17814\n",
      " ---> 3c8097835789\n",
      "Step 11/18 : COPY dockerd-entrypoint.py /usr/local/bin/dockerd-entrypoint.py\n",
      " ---> 880867f523a9\n",
      "Step 12/18 : RUN chmod +x /usr/local/bin/dockerd-entrypoint.py\n",
      " ---> Running in 237cddb403fb\n",
      " ---> Removed intermediate container 237cddb403fb\n",
      " ---> e9fafb1b8d7f\n",
      "Step 13/18 : RUN echo \"vmargs=-XX:-UseContainerSupport\" >> /usr/local/lib/python3.10/dist-packages/sagemaker_inference/etc/mme-mms.properties\n",
      " ---> Running in e4028c4b50ce\n",
      " ---> Removed intermediate container e4028c4b50ce\n",
      " ---> fc3cc6f829ea\n",
      "Step 14/18 : RUN mkdir -p /home/model-server/\n",
      " ---> Running in 1ecca6b5236b\n",
      " ---> Removed intermediate container 1ecca6b5236b\n",
      " ---> c4b170c60ea5\n",
      "Step 15/18 : COPY model_handler.py /home/model-server/model_handler.py\n",
      " ---> 2933bf02492f\n",
      "Step 16/18 : ENTRYPOINT [\"python\", \"/usr/local/bin/dockerd-entrypoint.py\"]\n",
      " ---> Running in fabdfdf28f55\n",
      " ---> Removed intermediate container fabdfdf28f55\n",
      " ---> 43e2a6915a88\n",
      "Step 17/18 : CMD [\"serve\"]\n",
      " ---> Running in 93428bcba52b\n",
      " ---> Removed intermediate container 93428bcba52b\n",
      " ---> d79bcace853c\n",
      "Step 18/18 : LABEL com.amazon.studio.user.resources=true\n",
      " ---> Running in 6c044b0b07ec\n",
      " ---> Removed intermediate container 6c044b0b07ec\n",
      " ---> 0fab59b7fb97\n",
      "Successfully built 0fab59b7fb97\n",
      "Successfully tagged 258565740036.dkr.ecr.us-west-2.amazonaws.com/catboost-sagemaker-multimodel:latest\n",
      "Pushing Docker image 258565740036.dkr.ecr.us-west-2.amazonaws.com/catboost-sagemaker-multimodel:latest to ECR \n",
      "The push refers to repository [258565740036.dkr.ecr.us-west-2.amazonaws.com/catboost-sagemaker-multimodel]\n",
      "268f3f769df9: Preparing\n",
      "d2c5c4fea1cd: Preparing\n",
      "666c04cd33b1: Preparing\n",
      "a5264fd27a3d: Preparing\n",
      "a82d8b87482b: Preparing\n",
      "a6814e76218b: Preparing\n",
      "ebd241500c8f: Preparing\n",
      "cb7d4020b008: Preparing\n",
      "3bbc536a3aef: Preparing\n",
      "47dbbfa9fa41: Preparing\n",
      "f8628a76a81d: Preparing\n",
      "3cc982388b71: Preparing\n",
      "cb7d4020b008: Waiting\n",
      "ebd241500c8f: Waiting\n",
      "3bbc536a3aef: Waiting\n",
      "a6814e76218b: Waiting\n",
      "3cc982388b71: Waiting\n",
      "47dbbfa9fa41: Waiting\n",
      "f8628a76a81d: Waiting\n",
      "268f3f769df9: Pushed\n",
      "666c04cd33b1: Pushed\n",
      "a5264fd27a3d: Pushed\n",
      "d2c5c4fea1cd: Pushed\n",
      "a82d8b87482b: Pushed\n",
      "ebd241500c8f: Pushed\n",
      "47dbbfa9fa41: Pushed\n",
      "cb7d4020b008: Pushed\n",
      "3cc982388b71: Pushed\n",
      "3bbc536a3aef: Pushed\n",
      "f8628a76a81d: Pushed\n",
      "a6814e76218b: Pushed\n",
      "latest: digest: sha256:09fd4fe4f90c204117ebcc033fc390548add3d147dec66902f052a40681e2df2 size: 2827\n"
     ]
    }
   ],
   "source": [
    "%%sh\n",
    "# Cell 11\n",
    "\n",
    "echo \"Starting Docker Build\"\n",
    "\n",
    "# The name of our algorithm\n",
    "algorithm_name=catboost-sagemaker-multimodel\n",
    "\n",
    "cd container/mme_catboost\n",
    "\n",
    "account=$(aws sts get-caller-identity --query Account --output text)\n",
    "\n",
    "# Get the region defined in the current configuration (default to us-east-1 if none defined)\n",
    "region=$(aws configure get region)\n",
    "region=${region:-us-west-2}\n",
    "\n",
    "fullname=\"${account}.dkr.ecr.${region}.amazonaws.com/${algorithm_name}:latest\"\n",
    "\n",
    "echo \"fullname:image=${fullname}\"\n",
    "\n",
    "# Get the login command from ECR and execute it directly\n",
    "aws --region ${AWS_DEFAULT_REGION} ecr get-login-password | docker login --username AWS --password-stdin ${AWS_ACCOUNT_ID}.dkr.ecr.${AWS_DEFAULT_REGION}.amazonaws.com/${fullname}\n",
    "\n",
    "# If the repository doesn't exist in ECR, create it.\n",
    "aws ecr describe-repositories --repository-names \"${algorithm_name}\" > /dev/null 2>&1\n",
    "\n",
    "if [ $? -ne 0 ]\n",
    "then\n",
    "    aws ecr create-repository --repository-name \"${algorithm_name}\" > /dev/null\n",
    "fi\n",
    "\n",
    "# Build the docker image locally with the image name and then push it to ECR\n",
    "# with the full name.\n",
    "\n",
    "echo \"Starting the Docker Build with ${algorithm_name}\"\n",
    "docker build --network sagemaker -t ${fullname} .\n",
    "\n",
    "echo \"Pushing Docker image ${fullname} to ECR \"\n",
    "docker push ${fullname}"
   ]
  },
  {
   "cell_type": "markdown",
   "id": "ab808776",
   "metadata": {},
   "source": [
    "### Deploy Multi Model Endpoint"
   ]
  },
  {
   "cell_type": "code",
   "execution_count": 28,
   "id": "6f5b0bf1",
   "metadata": {
    "execution": {
     "iopub.execute_input": "2025-07-21T17:52:33.489722Z",
     "iopub.status.busy": "2025-07-21T17:52:33.489403Z",
     "iopub.status.idle": "2025-07-21T17:52:33.558296Z",
     "shell.execute_reply": "2025-07-21T17:52:33.557824Z",
     "shell.execute_reply.started": "2025-07-21T17:52:33.489699Z"
    }
   },
   "outputs": [
    {
     "name": "stdout",
     "output_type": "stream",
     "text": [
      "arn:aws:iam::258565740036:role/sagemaker-immersion-day-SageMakerExecutionRole-jbQo22eLUylQ\n"
     ]
    }
   ],
   "source": [
    "# Cell 12\n",
    "from sagemaker import get_execution_role\n",
    "\n",
    "sm_client = boto3.client(service_name=\"sagemaker\")\n",
    "runtime_sm_client = boto3.client(service_name=\"sagemaker-runtime\")\n",
    "\n",
    "account_id = boto3.client(\"sts\").get_caller_identity()[\"Account\"]\n",
    "region = boto3.Session().region_name\n",
    "\n",
    "role = get_execution_role()\n",
    "print(role)"
   ]
  },
  {
   "cell_type": "markdown",
   "id": "b4d11d0f",
   "metadata": {},
   "source": [
    "### Create the SageMaker Multi-Model"
   ]
  },
  {
   "cell_type": "code",
   "execution_count": 29,
   "id": "0edada9e",
   "metadata": {
    "execution": {
     "iopub.execute_input": "2025-07-21T17:52:34.689864Z",
     "iopub.status.busy": "2025-07-21T17:52:34.689545Z",
     "iopub.status.idle": "2025-07-21T17:52:35.313078Z",
     "shell.execute_reply": "2025-07-21T17:52:35.312587Z",
     "shell.execute_reply.started": "2025-07-21T17:52:34.689841Z"
    }
   },
   "outputs": [
    {
     "name": "stdout",
     "output_type": "stream",
     "text": [
      "Model name: catboost-multimodel-2025-07-21-17-52-34\n",
      "Model data Url: s3://sagemaker-us-west-2-258565740036/catboost/\n",
      "Container image: 258565740036.dkr.ecr.us-west-2.amazonaws.com/catboost-sagemaker-multimodel:latest\n",
      "Model ARN: arn:aws:sagemaker:us-west-2:258565740036:model/catboost-multimodel-2025-07-21-17-52-34\n"
     ]
    }
   ],
   "source": [
    "# Cell 13\n",
    "from time import gmtime, strftime\n",
    "\n",
    "model_name = \"catboost-multimodel-\" + strftime(\"%Y-%m-%d-%H-%M-%S\", gmtime())\n",
    "model_url = \"s3://{}/catboost/\".format(s3_bucket)  ## MODEL S3 URL\n",
    "container = \"{}.dkr.ecr.{}.amazonaws.com/catboost-sagemaker-multimodel:latest\".format(\n",
    "    account_id, region\n",
    ")\n",
    "instance_type = \"ml.m5.xlarge\"\n",
    "\n",
    "print(\"Model name: \" + model_name)\n",
    "print(\"Model data Url: \" + model_url)\n",
    "print(\"Container image: \" + container)\n",
    "\n",
    "container = {\"Image\": container, \"ModelDataUrl\": model_url, \"Mode\": \"MultiModel\"}\n",
    "\n",
    "create_model_response = sm_client.create_model(\n",
    "    ModelName=model_name, ExecutionRoleArn=role, Containers=[container]\n",
    ")\n",
    "\n",
    "print(\"Model ARN: \" + create_model_response[\"ModelArn\"])"
   ]
  },
  {
   "cell_type": "markdown",
   "id": "0cb23d9d",
   "metadata": {},
   "source": [
    "### Create the SageMaker Endpoint Configuration\n"
   ]
  },
  {
   "cell_type": "code",
   "execution_count": 30,
   "id": "9dc553db",
   "metadata": {
    "execution": {
     "iopub.execute_input": "2025-07-21T17:52:36.988102Z",
     "iopub.status.busy": "2025-07-21T17:52:36.987766Z",
     "iopub.status.idle": "2025-07-21T17:52:37.359226Z",
     "shell.execute_reply": "2025-07-21T17:52:37.358675Z",
     "shell.execute_reply.started": "2025-07-21T17:52:36.988080Z"
    }
   },
   "outputs": [
    {
     "name": "stdout",
     "output_type": "stream",
     "text": [
      "Endpoint config name: catboost-multimodel-config2025-07-21-17-52-36\n",
      "Endpoint config ARN: arn:aws:sagemaker:us-west-2:258565740036:endpoint-config/catboost-multimodel-config2025-07-21-17-52-36\n"
     ]
    }
   ],
   "source": [
    "# Cell 14\n",
    "endpoint_config_name = \"catboost-multimodel-config\" + strftime(\"%Y-%m-%d-%H-%M-%S\", gmtime())\n",
    "print(\"Endpoint config name: \" + endpoint_config_name)\n",
    "\n",
    "create_endpoint_config_response = sm_client.create_endpoint_config(\n",
    "    EndpointConfigName=endpoint_config_name,\n",
    "    ProductionVariants=[\n",
    "        {\n",
    "            \"InstanceType\": instance_type,\n",
    "            \"InitialInstanceCount\": 1,\n",
    "            \"InitialVariantWeight\": 1,\n",
    "            \"ModelName\": model_name,\n",
    "            \"VariantName\": \"AllTraffic\",\n",
    "        }\n",
    "    ],\n",
    ")\n",
    "\n",
    "print(\"Endpoint config ARN: \" + create_endpoint_config_response[\"EndpointConfigArn\"])"
   ]
  },
  {
   "cell_type": "markdown",
   "id": "3f4d1699",
   "metadata": {},
   "source": [
    "### Create the SageMaker Multi-Model Endpoint\n",
    "\n",
    "**This step will take a couple of minutes**"
   ]
  },
  {
   "cell_type": "code",
   "execution_count": 31,
   "id": "68d9248c",
   "metadata": {
    "execution": {
     "iopub.execute_input": "2025-07-21T17:52:38.880501Z",
     "iopub.status.busy": "2025-07-21T17:52:38.880150Z",
     "iopub.status.idle": "2025-07-21T17:55:09.838364Z",
     "shell.execute_reply": "2025-07-21T17:55:09.837885Z",
     "shell.execute_reply.started": "2025-07-21T17:52:38.880478Z"
    }
   },
   "outputs": [
    {
     "name": "stdout",
     "output_type": "stream",
     "text": [
      "Endpoint name: catboost-multimodel-endpoint-2025-07-21-17-52-38\n",
      "Endpoint Arn: arn:aws:sagemaker:us-west-2:258565740036:endpoint/catboost-multimodel-endpoint-2025-07-21-17-52-38\n",
      "Endpoint Status: Creating\n",
      "Waiting for catboost-multimodel-endpoint-2025-07-21-17-52-38 endpoint to be in service...\n",
      "Created catboost-multimodel-endpoint-2025-07-21-17-52-38 endpoint is in Service and read to invoke ...\n",
      "CPU times: user 27.3 ms, sys: 11.2 ms, total: 38.5 ms\n",
      "Wall time: 2min 30s\n"
     ]
    }
   ],
   "source": [
    "%%time\n",
    "# Cell 15\n",
    "\n",
    "import time\n",
    "\n",
    "endpoint_name = \"catboost-multimodel-endpoint-\" + strftime(\"%Y-%m-%d-%H-%M-%S\", gmtime())\n",
    "print(\"Endpoint name: \" + endpoint_name)\n",
    "\n",
    "create_endpoint_response = sm_client.create_endpoint(\n",
    "    EndpointName=endpoint_name, EndpointConfigName=endpoint_config_name\n",
    ")\n",
    "print(\"Endpoint Arn: \" + create_endpoint_response[\"EndpointArn\"])\n",
    "\n",
    "resp = sm_client.describe_endpoint(EndpointName=endpoint_name)\n",
    "status = resp[\"EndpointStatus\"]\n",
    "print(\"Endpoint Status: \" + status)\n",
    "\n",
    "print(\"Waiting for {} endpoint to be in service...\".format(endpoint_name))\n",
    "waiter = sm_client.get_waiter(\"endpoint_in_service\")\n",
    "waiter.wait(EndpointName=endpoint_name)\n",
    "\n",
    "print(\"Created {} endpoint is in Service and read to invoke ...\".format(endpoint_name))"
   ]
  },
  {
   "cell_type": "markdown",
   "id": "4d8a5eec",
   "metadata": {},
   "source": [
    "### Invoke each of the 5 models\n",
    "We have identical models here to simulate multiple models belonging to the same framework"
   ]
  },
  {
   "cell_type": "code",
   "execution_count": 32,
   "id": "50844ad9",
   "metadata": {
    "execution": {
     "iopub.execute_input": "2025-07-21T17:55:09.839405Z",
     "iopub.status.busy": "2025-07-21T17:55:09.839149Z",
     "iopub.status.idle": "2025-07-21T17:55:13.634206Z",
     "shell.execute_reply": "2025-07-21T17:55:13.633573Z",
     "shell.execute_reply.started": "2025-07-21T17:55:09.839387Z"
    }
   },
   "outputs": [
    {
     "name": "stdout",
     "output_type": "stream",
     "text": [
      "Time=1230.05 --- > ::{'0': 0.020376404499626855, '1': 0.9796235955003731}\n",
      "Time=836.73 --- > ::{'0': 0.020376404499626855, '1': 0.9796235955003731}\n",
      "Time=825.90 --- > ::{'0': 0.020376404499626855, '1': 0.9796235955003731}\n",
      "Time=897.26 --- > ::{'0': 0.020376404499626855, '1': 0.9796235955003731}\n"
     ]
    }
   ],
   "source": [
    "# Cell 16\n",
    "from datetime import datetime\n",
    "import time\n",
    "\n",
    "for i in range(0, 4):\n",
    "    start_time = datetime.now()\n",
    "    response = runtime_sm_client.invoke_endpoint(\n",
    "        EndpointName=endpoint_name,\n",
    "        TargetModel=\"catboost-model-{}.tar.gz\".format(i),\n",
    "        Body=df.to_csv(index=False),\n",
    "    )\n",
    "    time_delta = (datetime.now() - start_time).total_seconds() * 1000\n",
    "    time_delta = \"{:.2f}\".format(time_delta)\n",
    "\n",
    "    print(f'Time={time_delta} --- > ::{json.loads(response[\"Body\"].read().decode(\"utf-8\"))}')"
   ]
  },
  {
   "cell_type": "markdown",
   "id": "d54ab45c",
   "metadata": {},
   "source": [
    "### Invoke just one of models 1000 times \n",
    "Since the models are in memory and loaded, these invocations should not have any latency \n"
   ]
  },
  {
   "cell_type": "code",
   "execution_count": 33,
   "id": "dbdcab68",
   "metadata": {
    "execution": {
     "iopub.execute_input": "2025-07-21T18:24:15.808207Z",
     "iopub.status.busy": "2025-07-21T18:24:15.807879Z",
     "iopub.status.idle": "2025-07-21T18:24:54.700866Z",
     "shell.execute_reply": "2025-07-21T18:24:54.700382Z",
     "shell.execute_reply.started": "2025-07-21T18:24:15.808186Z"
    }
   },
   "outputs": [
    {
     "name": "stdout",
     "output_type": "stream",
     "text": [
      "Starting invocation for model::catboost-model-1.tar.gz, please wait ...\n",
      "\n",
      "Predictions for model latency: \n",
      "\n",
      "\n",
      "P95: 69.91244554519653 ms\n",
      "\n",
      "P90: 67.55733489990234 ms\n",
      "\n",
      "Average: 38.885658740997314 ms\n",
      "\n"
     ]
    }
   ],
   "source": [
    "# Cell 17\n",
    "import numpy as np\n",
    "\n",
    "print(\"Starting invocation for model::catboost-model-1.tar.gz, please wait ...\")\n",
    "results = []\n",
    "for i in range(0, 1000):\n",
    "    start = time.time()\n",
    "    response = runtime_sm_client.invoke_endpoint(\n",
    "        EndpointName=endpoint_name,\n",
    "        TargetModel=\"catboost-model-1.tar.gz\",\n",
    "        Body=df.to_csv(index=False),\n",
    "    )\n",
    "    results.append((time.time() - start) * 1000)\n",
    "print(\"\\nPredictions for model latency: \\n\")\n",
    "print(\"\\nP95: \" + str(np.percentile(results, 95)) + \" ms\\n\")\n",
    "print(\"P90: \" + str(np.percentile(results, 90)) + \" ms\\n\")\n",
    "print(\"Average: \" + str(np.average(results)) + \" ms\\n\")"
   ]
  },
  {
   "cell_type": "markdown",
   "id": "97bf8de1",
   "metadata": {
    "pycharm": {
     "name": "#%% md\n"
    }
   },
   "source": [
    "## Optional Clean up\n",
    "Clean up and delete the end point"
   ]
  },
  {
   "cell_type": "code",
   "execution_count": null,
   "id": "3405794a",
   "metadata": {
    "pycharm": {
     "name": "#%%\n"
    }
   },
   "outputs": [],
   "source": [
    "# delete the end point\n",
    "# Cell 18\n",
    "\n",
    "sm_client.delete_endpoint(EndpointName=endpoint_name)"
   ]
  },
  {
   "attachments": {},
   "cell_type": "markdown",
   "id": "49b55db9",
   "metadata": {},
   "source": [
    "## Notebook CI Test Results\n",
    "\n",
    "This notebook was tested in multiple regions. The test results are as follows, except for us-west-2 which is shown at the top of the notebook.\n",
    "\n",
    "![This us-east-1 badge failed to load. Check your device's internet connectivity, otherwise the service is currently unavailable](https://prod.us-west-2.tcx-beacon.docs.aws.dev/sagemaker-nb/us-east-1/inference|nlp|realtime|byoc|multi_model_catboost.ipynb)\n",
    "\n",
    "![This us-east-2 badge failed to load. Check your device's internet connectivity, otherwise the service is currently unavailable](https://prod.us-west-2.tcx-beacon.docs.aws.dev/sagemaker-nb/us-east-2/inference|nlp|realtime|byoc|multi_model_catboost.ipynb)\n",
    "\n",
    "![This us-west-1 badge failed to load. Check your device's internet connectivity, otherwise the service is currently unavailable](https://prod.us-west-2.tcx-beacon.docs.aws.dev/sagemaker-nb/us-west-1/inference|nlp|realtime|byoc|multi_model_catboost.ipynb)\n",
    "\n",
    "![This ca-central-1 badge failed to load. Check your device's internet connectivity, otherwise the service is currently unavailable](https://prod.us-west-2.tcx-beacon.docs.aws.dev/sagemaker-nb/ca-central-1/inference|nlp|realtime|byoc|multi_model_catboost.ipynb)\n",
    "\n",
    "![This sa-east-1 badge failed to load. Check your device's internet connectivity, otherwise the service is currently unavailable](https://prod.us-west-2.tcx-beacon.docs.aws.dev/sagemaker-nb/sa-east-1/inference|nlp|realtime|byoc|multi_model_catboost.ipynb)\n",
    "\n",
    "![This eu-west-1 badge failed to load. Check your device's internet connectivity, otherwise the service is currently unavailable](https://prod.us-west-2.tcx-beacon.docs.aws.dev/sagemaker-nb/eu-west-1/inference|nlp|realtime|byoc|multi_model_catboost.ipynb)\n",
    "\n",
    "![This eu-west-2 badge failed to load. Check your device's internet connectivity, otherwise the service is currently unavailable](https://prod.us-west-2.tcx-beacon.docs.aws.dev/sagemaker-nb/eu-west-2/inference|nlp|realtime|byoc|multi_model_catboost.ipynb)\n",
    "\n",
    "![This eu-west-3 badge failed to load. Check your device's internet connectivity, otherwise the service is currently unavailable](https://prod.us-west-2.tcx-beacon.docs.aws.dev/sagemaker-nb/eu-west-3/inference|nlp|realtime|byoc|multi_model_catboost.ipynb)\n",
    "\n",
    "![This eu-central-1 badge failed to load. Check your device's internet connectivity, otherwise the service is currently unavailable](https://prod.us-west-2.tcx-beacon.docs.aws.dev/sagemaker-nb/eu-central-1/inference|nlp|realtime|byoc|multi_model_catboost.ipynb)\n",
    "\n",
    "![This eu-north-1 badge failed to load. Check your device's internet connectivity, otherwise the service is currently unavailable](https://prod.us-west-2.tcx-beacon.docs.aws.dev/sagemaker-nb/eu-north-1/inference|nlp|realtime|byoc|multi_model_catboost.ipynb)\n",
    "\n",
    "![This ap-southeast-1 badge failed to load. Check your device's internet connectivity, otherwise the service is currently unavailable](https://prod.us-west-2.tcx-beacon.docs.aws.dev/sagemaker-nb/ap-southeast-1/inference|nlp|realtime|byoc|multi_model_catboost.ipynb)\n",
    "\n",
    "![This ap-southeast-2 badge failed to load. Check your device's internet connectivity, otherwise the service is currently unavailable](https://prod.us-west-2.tcx-beacon.docs.aws.dev/sagemaker-nb/ap-southeast-2/inference|nlp|realtime|byoc|multi_model_catboost.ipynb)\n",
    "\n",
    "![This ap-northeast-1 badge failed to load. Check your device's internet connectivity, otherwise the service is currently unavailable](https://prod.us-west-2.tcx-beacon.docs.aws.dev/sagemaker-nb/ap-northeast-1/inference|nlp|realtime|byoc|multi_model_catboost.ipynb)\n",
    "\n",
    "![This ap-northeast-2 badge failed to load. Check your device's internet connectivity, otherwise the service is currently unavailable](https://prod.us-west-2.tcx-beacon.docs.aws.dev/sagemaker-nb/ap-northeast-2/inference|nlp|realtime|byoc|multi_model_catboost.ipynb)\n",
    "\n",
    "![This ap-south-1 badge failed to load. Check your device's internet connectivity, otherwise the service is currently unavailable](https://prod.us-west-2.tcx-beacon.docs.aws.dev/sagemaker-nb/ap-south-1/inference|nlp|realtime|byoc|multi_model_catboost.ipynb)\n"
   ]
  }
 ],
 "metadata": {
  "kernelspec": {
   "display_name": "Python 3 (ipykernel)",
   "language": "python",
   "name": "python3"
  },
  "language_info": {
   "codemirror_mode": {
    "name": "ipython",
    "version": 3
   },
   "file_extension": ".py",
   "mimetype": "text/x-python",
   "name": "python",
   "nbconvert_exporter": "python",
   "pygments_lexer": "ipython3",
   "version": "3.12.9"
  }
 },
 "nbformat": 4,
 "nbformat_minor": 5
}
